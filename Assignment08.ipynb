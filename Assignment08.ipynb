{
 "cells": [
  {
   "cell_type": "markdown",
   "metadata": {},
   "source": [
    "# Assignment 08 - Machine Learning\n",
    "This assignment revoles around working with; Feature Engineering, Machine Learning and Model Validation\n",
    "\n",
    "## Obnoxious Consequence\n",
    "- Martin Snedvig Rasmussen\n",
    "- Michael Ejdal Lundsgaard\n",
    "- Morten Bokkenheuser-Bæhr\n",
    "- Simon Kepp Stennicke"
   ]
  },
  {
   "cell_type": "markdown",
   "metadata": {},
   "source": [
    "# Exercises\n",
    "\n",
    "https://think.cs.vt.edu/corgis/csv/cars/cars.html  \n",
    "https://think.cs.vt.edu/corgis/csv/cars/cars.csv\n",
    "\n",
    "### Download the data\n",
    "\n",
    "- Programatically download the data from the above link.\n",
    "- Import the data into a Pandas dataframe.\n",
    "- Show the head of the Pandas dataframe.\n",
    "\n",
    "### Linear regression\n",
    "\n",
    "- Perform linear regression on the downloaded dataset, where `y=Highway mpg` and `x=Horsepower`.\n",
    "- What is the coefficient (slope) of your model? What does this number mean?\n",
    "- According to your model, what is `y` when `x=2000`.\n",
    "- Show the regression line on a scatterplot with the other datapoints.\n",
    "\n",
    "### Classification\n",
    "\n",
    "- Using `sklearn` create a classifier that can predict the make of a car, based on provided features. The following features should be included:\n",
    "  - `City mpg`\n",
    "  - `Highway mpg`\n",
    "  - `Height`\n",
    "  - `Width`\n",
    "  - `Length`\n",
    "  - `Horsepower`\n",
    "  - `Year`\n",
    "- Show the decisiontree of your model.\n",
    "- Use your model to predict the make of a car.\n",
    "\n",
    "## Review questions \n",
    "\n",
    "1. Did the student programatically download and import the data?\n",
    "2. Did the student correctly display the regression line in a graph`?\n",
    "3. Did the student find the coefficient of the line, and reflect on its meaning?\n",
    "4. Did the student correctly provide their classification model with imported data?"
   ]
  },
  {
   "cell_type": "markdown",
   "metadata": {},
   "source": [
    "# Solution"
   ]
  },
  {
   "cell_type": "markdown",
   "metadata": {},
   "source": [
    "## Part 01 - Download the data"
   ]
  },
  {
   "cell_type": "code",
   "execution_count": 4,
   "metadata": {},
   "outputs": [],
   "source": [
    "import pandas as pd\n",
    "import numpy as np\n",
    "from glob import glob\n",
    "import matplotlib.pyplot as plt\n",
    "import sklearn.linear_model\n",
    "from sklearn.tree import DecisionTreeClassifier as dtc\n",
    "%matplotlib inline"
   ]
  },
  {
   "cell_type": "code",
   "execution_count": 1,
   "metadata": {},
   "outputs": [],
   "source": [
    "!python download_url.py https://think.cs.vt.edu/corgis/csv/cars/cars.csv"
   ]
  },
  {
   "cell_type": "code",
   "execution_count": 5,
   "metadata": {},
   "outputs": [
    {
     "data": {
      "text/html": [
       "<div>\n",
       "<style scoped>\n",
       "    .dataframe tbody tr th:only-of-type {\n",
       "        vertical-align: middle;\n",
       "    }\n",
       "\n",
       "    .dataframe tbody tr th {\n",
       "        vertical-align: top;\n",
       "    }\n",
       "\n",
       "    .dataframe thead th {\n",
       "        text-align: right;\n",
       "    }\n",
       "</style>\n",
       "<table border=\"1\" class=\"dataframe\">\n",
       "  <thead>\n",
       "    <tr style=\"text-align: right;\">\n",
       "      <th></th>\n",
       "      <th>City mpg</th>\n",
       "      <th>Classification</th>\n",
       "      <th>Driveline</th>\n",
       "      <th>Engine Type</th>\n",
       "      <th>Fuel Type</th>\n",
       "      <th>Height</th>\n",
       "      <th>Highway mpg</th>\n",
       "      <th>Horsepower</th>\n",
       "      <th>Hybrid</th>\n",
       "      <th>ID</th>\n",
       "      <th>Length</th>\n",
       "      <th>Make</th>\n",
       "      <th>Model Year</th>\n",
       "      <th>Number of Forward Gears</th>\n",
       "      <th>Torque</th>\n",
       "      <th>Transmission</th>\n",
       "      <th>Width</th>\n",
       "      <th>Year</th>\n",
       "    </tr>\n",
       "  </thead>\n",
       "  <tbody>\n",
       "    <tr>\n",
       "      <th>0</th>\n",
       "      <td>18</td>\n",
       "      <td>Automatic transmission</td>\n",
       "      <td>All-wheel drive</td>\n",
       "      <td>Audi 3.2L 6 cylinder 250hp 236ft-lbs</td>\n",
       "      <td>Gasoline</td>\n",
       "      <td>140</td>\n",
       "      <td>25</td>\n",
       "      <td>250</td>\n",
       "      <td>False</td>\n",
       "      <td>2009 Audi A3 3.2</td>\n",
       "      <td>143</td>\n",
       "      <td>Audi</td>\n",
       "      <td>2009 Audi A3</td>\n",
       "      <td>6</td>\n",
       "      <td>236</td>\n",
       "      <td>6 Speed Automatic Select Shift</td>\n",
       "      <td>202</td>\n",
       "      <td>2009</td>\n",
       "    </tr>\n",
       "    <tr>\n",
       "      <th>1</th>\n",
       "      <td>22</td>\n",
       "      <td>Automatic transmission</td>\n",
       "      <td>Front-wheel drive</td>\n",
       "      <td>Audi 2.0L 4 cylinder 200 hp 207 ft-lbs Turbo</td>\n",
       "      <td>Gasoline</td>\n",
       "      <td>140</td>\n",
       "      <td>28</td>\n",
       "      <td>200</td>\n",
       "      <td>False</td>\n",
       "      <td>2009 Audi A3 2.0 T AT</td>\n",
       "      <td>143</td>\n",
       "      <td>Audi</td>\n",
       "      <td>2009 Audi A3</td>\n",
       "      <td>6</td>\n",
       "      <td>207</td>\n",
       "      <td>6 Speed Automatic Select Shift</td>\n",
       "      <td>202</td>\n",
       "      <td>2009</td>\n",
       "    </tr>\n",
       "    <tr>\n",
       "      <th>2</th>\n",
       "      <td>21</td>\n",
       "      <td>Manual transmission</td>\n",
       "      <td>Front-wheel drive</td>\n",
       "      <td>Audi 2.0L 4 cylinder 200 hp 207 ft-lbs Turbo</td>\n",
       "      <td>Gasoline</td>\n",
       "      <td>140</td>\n",
       "      <td>30</td>\n",
       "      <td>200</td>\n",
       "      <td>False</td>\n",
       "      <td>2009 Audi A3 2.0 T</td>\n",
       "      <td>143</td>\n",
       "      <td>Audi</td>\n",
       "      <td>2009 Audi A3</td>\n",
       "      <td>6</td>\n",
       "      <td>207</td>\n",
       "      <td>6 Speed Manual</td>\n",
       "      <td>202</td>\n",
       "      <td>2009</td>\n",
       "    </tr>\n",
       "    <tr>\n",
       "      <th>3</th>\n",
       "      <td>21</td>\n",
       "      <td>Automatic transmission</td>\n",
       "      <td>All-wheel drive</td>\n",
       "      <td>Audi 2.0L 4 cylinder 200 hp 207 ft-lbs Turbo</td>\n",
       "      <td>Gasoline</td>\n",
       "      <td>140</td>\n",
       "      <td>28</td>\n",
       "      <td>200</td>\n",
       "      <td>False</td>\n",
       "      <td>2009 Audi A3 2.0 T Quattro</td>\n",
       "      <td>143</td>\n",
       "      <td>Audi</td>\n",
       "      <td>2009 Audi A3</td>\n",
       "      <td>6</td>\n",
       "      <td>207</td>\n",
       "      <td>6 Speed Automatic Select Shift</td>\n",
       "      <td>202</td>\n",
       "      <td>2009</td>\n",
       "    </tr>\n",
       "    <tr>\n",
       "      <th>4</th>\n",
       "      <td>21</td>\n",
       "      <td>Automatic transmission</td>\n",
       "      <td>All-wheel drive</td>\n",
       "      <td>Audi 2.0L 4 cylinder 200 hp 207 ft-lbs Turbo</td>\n",
       "      <td>Gasoline</td>\n",
       "      <td>140</td>\n",
       "      <td>28</td>\n",
       "      <td>200</td>\n",
       "      <td>False</td>\n",
       "      <td>2009 Audi A3 2.0 T Quattro</td>\n",
       "      <td>143</td>\n",
       "      <td>Audi</td>\n",
       "      <td>2009 Audi A3</td>\n",
       "      <td>6</td>\n",
       "      <td>207</td>\n",
       "      <td>6 Speed Automatic Select Shift</td>\n",
       "      <td>202</td>\n",
       "      <td>2009</td>\n",
       "    </tr>\n",
       "  </tbody>\n",
       "</table>\n",
       "</div>"
      ],
      "text/plain": [
       "   City mpg          Classification          Driveline  \\\n",
       "0        18  Automatic transmission    All-wheel drive   \n",
       "1        22  Automatic transmission  Front-wheel drive   \n",
       "2        21     Manual transmission  Front-wheel drive   \n",
       "3        21  Automatic transmission    All-wheel drive   \n",
       "4        21  Automatic transmission    All-wheel drive   \n",
       "\n",
       "                                    Engine Type Fuel Type  Height  \\\n",
       "0          Audi 3.2L 6 cylinder 250hp 236ft-lbs  Gasoline     140   \n",
       "1  Audi 2.0L 4 cylinder 200 hp 207 ft-lbs Turbo  Gasoline     140   \n",
       "2  Audi 2.0L 4 cylinder 200 hp 207 ft-lbs Turbo  Gasoline     140   \n",
       "3  Audi 2.0L 4 cylinder 200 hp 207 ft-lbs Turbo  Gasoline     140   \n",
       "4  Audi 2.0L 4 cylinder 200 hp 207 ft-lbs Turbo  Gasoline     140   \n",
       "\n",
       "   Highway mpg  Horsepower  Hybrid                          ID  Length  Make  \\\n",
       "0           25         250   False            2009 Audi A3 3.2     143  Audi   \n",
       "1           28         200   False       2009 Audi A3 2.0 T AT     143  Audi   \n",
       "2           30         200   False          2009 Audi A3 2.0 T     143  Audi   \n",
       "3           28         200   False  2009 Audi A3 2.0 T Quattro     143  Audi   \n",
       "4           28         200   False  2009 Audi A3 2.0 T Quattro     143  Audi   \n",
       "\n",
       "     Model Year  Number of Forward Gears  Torque  \\\n",
       "0  2009 Audi A3                        6     236   \n",
       "1  2009 Audi A3                        6     207   \n",
       "2  2009 Audi A3                        6     207   \n",
       "3  2009 Audi A3                        6     207   \n",
       "4  2009 Audi A3                        6     207   \n",
       "\n",
       "                     Transmission  Width  Year  \n",
       "0  6 Speed Automatic Select Shift    202  2009  \n",
       "1  6 Speed Automatic Select Shift    202  2009  \n",
       "2                  6 Speed Manual    202  2009  \n",
       "3  6 Speed Automatic Select Shift    202  2009  \n",
       "4  6 Speed Automatic Select Shift    202  2009  "
      ]
     },
     "execution_count": 5,
     "metadata": {},
     "output_type": "execute_result"
    }
   ],
   "source": [
    "local_file = glob('*.csv')[0]\n",
    "df = pd.read_csv(local_file)\n",
    "df.head()"
   ]
  },
  {
   "cell_type": "markdown",
   "metadata": {},
   "source": [
    "## Part 02 - Linear regression"
   ]
  },
  {
   "cell_type": "code",
   "execution_count": 4,
   "metadata": {},
   "outputs": [
    {
     "data": {
      "image/png": "[encoded data removed]",
      "text/plain": [
       "<Figure size 432x288 with 1 Axes>"
      ]
     },
     "metadata": {
      "needs_background": "light"
     },
     "output_type": "display_data"
    }
   ],
   "source": [
    "# https://becominghuman.ai/linear-regression-in-python-with-pandas-scikit-learn-72574a2ec1a5\n",
    "plt.scatter(df['Horsepower'], df['Highway mpg'])\n",
    "\n",
    "# Since Chevrolet Sliverado has a really high Highway mpg, we've decided to delete it.\n",
    "plt.axis(ymax = 50)\n",
    "plt.grid()"
   ]
  },
  {
   "cell_type": "code",
   "execution_count": 22,
   "metadata": {},
   "outputs": [
    {
     "data": {
      "text/plain": [
       "array([-0.0373255])"
      ]
     },
     "execution_count": 22,
     "metadata": {},
     "output_type": "execute_result"
    }
   ],
   "source": [
    "xs = df['Horsepower']\n",
    "ys = df['Highway mpg']\n",
    "\n",
    "xs_reshape = np.array(xs).reshape(-1, 1)\n",
    "\n",
    "\n",
    "model = sklearn.linear_model.LinearRegression()\n",
    "model.fit(xs_reshape, ys)\n",
    "\n",
    "model.coef_"
   ]
  },
  {
   "cell_type": "markdown",
   "metadata": {},
   "source": [
    "When the slope of the regression line is negative the value of y decreases as x increases."
   ]
  },
  {
   "cell_type": "code",
   "execution_count": 6,
   "metadata": {},
   "outputs": [
    {
     "data": {
      "text/plain": [
       "array([-40.42898951])"
      ]
     },
     "execution_count": 6,
     "metadata": {},
     "output_type": "execute_result"
    }
   ],
   "source": [
    "predicted = model.predict(xs_reshape)\n",
    "model.predict([[2000]])"
   ]
  },
  {
   "cell_type": "markdown",
   "metadata": {},
   "source": [
    "Looking at the data we've found an amazing business idea!... If we can get a car to reach 2000 Horsepowers we can make 40 galons pr mile!... \n",
    "\n",
    "in all seriousness, we can't use this information to anything... \n",
    "\n",
    "However we can see on the graph the the relation between high horsepower and low highway mpg, is starting to flatten out... \n",
    "\n",
    "If we wanted a more realistic result, we could use curve fitting instead like they did [here](https://stackoverflow.com/questions/19165259/python-numpy-scipy-curve-fitting)"
   ]
  },
  {
   "cell_type": "code",
   "execution_count": 7,
   "metadata": {},
   "outputs": [
    {
     "data": {
      "text/plain": [
       "[<matplotlib.lines.Line2D at 0x28193d71438>]"
      ]
     },
     "execution_count": 7,
     "metadata": {},
     "output_type": "execute_result"
    },
    {
     "data": {
      "image/png": "[encoded data removed]",
      "text/plain": [
       "<Figure size 432x288 with 1 Axes>"
      ]
     },
     "metadata": {
      "needs_background": "light"
     },
     "output_type": "display_data"
    }
   ],
   "source": [
    "plt.axis(ymax = 50)\n",
    "plt.grid()\n",
    "\n",
    "ys_predict = model.predict(xs_reshape)\n",
    "\n",
    "plt.scatter(xs, ys, color='black', s=10)\n",
    "plt.plot(xs, ys_predict, color='blue', linewidth=2)"
   ]
  },
  {
   "cell_type": "markdown",
   "metadata": {},
   "source": [
    "## Part 03 - Classification"
   ]
  },
  {
   "cell_type": "markdown",
   "metadata": {},
   "source": [
    "\n",
    "- Using `sklearn` create a classifier that can predict the make of a car, based on provided features. The following features should be included:\n",
    "  - `City mpg`\n",
    "  - `Highway mpg`\n",
    "  - `Height`\n",
    "  - `Width`\n",
    "  - `Length`\n",
    "  - `Horsepower`\n",
    "  - `Year`\n",
    "- Show the decisiontree of your model.\n",
    "- Use your model to predict the make of a car."
   ]
  },
  {
   "cell_type": "code",
   "execution_count": 23,
   "metadata": {},
   "outputs": [
    {
     "data": {
      "text/plain": [
       "DecisionTreeClassifier(class_weight=None, criterion='gini', max_depth=None,\n",
       "            max_features=None, max_leaf_nodes=100,\n",
       "            min_impurity_decrease=0.0, min_impurity_split=None,\n",
       "            min_samples_leaf=1, min_samples_split=2,\n",
       "            min_weight_fraction_leaf=0.0, presort=False, random_state=0,\n",
       "            splitter='best')"
      ]
     },
     "execution_count": 23,
     "metadata": {},
     "output_type": "execute_result"
    }
   ],
   "source": [
    "# https://scikit-learn.org/stable/modules/generated/sklearn.tree.DecisionTreeClassifier.html\n",
    "features = ['City mpg', 'Highway mpg', 'Height', 'Width', 'Length', 'Horsepower', 'Year']\n",
    "targets = df['Make']\n",
    "\n",
    "model = dtc(max_leaf_nodes=100, random_state=0)\n",
    "model.fit(df[features], df['Make'])"
   ]
  },
  {
   "cell_type": "markdown",
   "metadata": {},
   "source": [
    "### NOTE\n",
    "Sadly we can't do this since neither of us in the grp has a Linux/Ubuntu machine - Therefore we can't use graphviz"
   ]
  },
  {
   "cell_type": "code",
   "execution_count": 26,
   "metadata": {},
   "outputs": [
    {
     "name": "stdout",
     "output_type": "stream",
     "text": [
      "Actual Car Lamborghini: ['Jaguar']\n",
      "Actual Car Audi: ['Audi']\n",
      "Actual Car Kia: ['Hyundai']\n"
     ]
    }
   ],
   "source": [
    "#features = ['City mpg', 'Highway mpg', 'Height', 'Width', 'Length', 'Horsepower', 'Year'\n",
    "Lambo = [[12, 20, 160, 108, 249, 552, 2012]]\n",
    "Audi = [[21, 28, 140, 202, 143, 200, 2009]]\n",
    "Kia = [[27, 36, 190, 158, 185, 110, 2010]]\n",
    "\n",
    "prediction_lambo = model.predict(Lambo)\n",
    "prediction_audi = model.predict(Audi)\n",
    "prediction_kia = model.predict(Kia)                                \n",
    "                                 \n",
    "print('Actual Car Lamborghini:', prediction_lambo)\n",
    "print('Actual Car Audi:', prediction_audi)\n",
    "print('Actual Car Kia:', prediction_kia)"
   ]
  }
 ],
 "metadata": {
  "kernelspec": {
   "display_name": "Python 3",
   "language": "python",
   "name": "python3"
  },
  "language_info": {
   "codemirror_mode": {
    "name": "ipython",
    "version": 3
   },
   "file_extension": ".py",
   "mimetype": "text/x-python",
   "name": "python",
   "nbconvert_exporter": "python",
   "pygments_lexer": "ipython3",
   "version": "3.7.1"
  }
 },
 "nbformat": 4,
 "nbformat_minor": 2
}
