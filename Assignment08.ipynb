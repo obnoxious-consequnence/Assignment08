{
 "cells": [
  {
   "cell_type": "markdown",
   "metadata": {},
   "source": [
    "# Assignment 7 - Web Scrapping\n",
    "This assignment revoles around working with; Feature Engineering, Machine Learning and Model Validation\n",
    "\n",
    "## Obnoxious Consequence\n",
    "- Martin Snedvig Rasmussen\n",
    "- Michael Ejdal Lundsgaard\n",
    "- Morten Bokkenheuser-Bæhr\n",
    "- Simon Kepp Stennicke"
   ]
  }
 ],
 "metadata": {
  "kernelspec": {
   "display_name": "Python 3",
   "language": "python",
   "name": "python3"
  },
  "language_info": {
   "codemirror_mode": {
    "name": "ipython",
    "version": 3
   },
   "file_extension": ".py",
   "mimetype": "text/x-python",
   "name": "python",
   "nbconvert_exporter": "python",
   "pygments_lexer": "ipython3",
   "version": "3.7.1"
  }
 },
 "nbformat": 4,
 "nbformat_minor": 2
}
