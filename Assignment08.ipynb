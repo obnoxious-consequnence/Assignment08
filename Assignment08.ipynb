{
 "cells": [
  {
   "cell_type": "markdown",
   "metadata": {},
   "source": [
    "# Assignment 08 - Machine Learning\n",
    "This assignment revoles around working with; Feature Engineering, Machine Learning and Model Validation\n",
    "\n",
    "## Obnoxious Consequence\n",
    "- Martin Snedvig Rasmussen\n",
    "- Michael Ejdal Lundsgaard\n",
    "- Morten Bokkenheuser-Bæhr\n",
    "- Simon Kepp Stennicke"
   ]
  },
  {
   "cell_type": "markdown",
   "metadata": {},
   "source": [
    "# Exercises\n",
    "\n",
    "https://think.cs.vt.edu/corgis/csv/cars/cars.html  \n",
    "https://think.cs.vt.edu/corgis/csv/cars/cars.csv\n",
    "\n",
    "### Download the data\n",
    "\n",
    "- Programatically download the data from the above link.\n",
    "- Import the data into a Pandas dataframe.\n",
    "- Show the head of the Pandas dataframe.\n",
    "\n",
    "### Linear regression\n",
    "\n",
    "- Perform linear regression on the downloaded dataset, where `y=Highway mpg` and `x=Horsepower`.\n",
    "- What is the coefficient (slope) of your model? What does this number mean?\n",
    "- According to your model, what is `y` when `x=2000`.\n",
    "- Show the regression line on a scatterplot with the other datapoints.\n",
    "\n",
    "### Classification\n",
    "\n",
    "- Using `sklearn` create a classifier that can predict the make of a car, based on provided features. The following features should be included:\n",
    "  - `City mpg`\n",
    "  - `Highway mpg`\n",
    "  - `Height`\n",
    "  - `Width`\n",
    "  - `Length`\n",
    "  - `Horsepower`\n",
    "  - `Year`\n",
    "- Show the decisiontree of your model.\n",
    "- Use your model to predict the make of a car.\n",
    "\n",
    "## Review questions \n",
    "\n",
    "1. Did the student programatically download and import the data?\n",
    "2. Did the student correctly display the regression line in a graph`?\n",
    "3. Did the student find the coefficient of the line, and reflect on its meaning?\n",
    "4. Did the student correctly provide their classification model with imported data?"
   ]
  },
  {
   "cell_type": "markdown",
   "metadata": {},
   "source": [
    "# Solution"
   ]
  }
 ],
 "metadata": {
  "kernelspec": {
   "display_name": "Python 3",
   "language": "python",
   "name": "python3"
  },
  "language_info": {
   "codemirror_mode": {
    "name": "ipython",
    "version": 3
   },
   "file_extension": ".py",
   "mimetype": "text/x-python",
   "name": "python",
   "nbconvert_exporter": "python",
   "pygments_lexer": "ipython3",
   "version": "3.7.1"
  }
 },
 "nbformat": 4,
 "nbformat_minor": 2
}
